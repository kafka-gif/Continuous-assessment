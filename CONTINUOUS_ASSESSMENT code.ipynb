{
 "cells": [
  {
   "cell_type": "markdown",
   "metadata": {
    "id": "qNVEjvzne6sL"
   },
   "source": [
    "#**CONTINUOUS ASSESSMENT**"
   ]
  },
  {
   "cell_type": "markdown",
   "metadata": {
    "id": "zCdoZ9sSe2BM"
   },
   "source": [
    "##CHAINED MULTI-OUTPUT CLASSIFICATION"
   ]
  },
  {
   "cell_type": "code",
   "execution_count": 22,
   "metadata": {
    "id": "w-yUz8ScVQHw"
   },
   "outputs": [],
   "source": [
    "#!pip install scikit-learn pandas\n",
    "\n",
    "import pandas as pd\n",
    "from sklearn.model_selection import train_test_split\n",
    "from sklearn.feature_extraction.text import TfidfVectorizer\n",
    "from sklearn.linear_model import LogisticRegression\n",
    "from sklearn.neural_network import MLPClassifier\n",
    "from sklearn.metrics import classification_report"
   ]
  },
  {
   "cell_type": "code",
   "execution_count": 14,
   "metadata": {
    "id": "V5_N3h4gVujn"
   },
   "outputs": [],
   "source": [
    "df = pd.read_csv('/content/PubMed Multi Label Text Classification Dataset Processed.csv')"
   ]
  },
  {
   "cell_type": "code",
   "execution_count": 15,
   "metadata": {
    "id": "XfiHKn5dVw06"
   },
   "outputs": [],
   "source": [
    "df['text'] = df['Title'].fillna('') + ' ' + df['abstractText'].fillna('')"
   ]
  },
  {
   "cell_type": "code",
   "execution_count": 16,
   "metadata": {
    "id": "FhRybZ61Yyo2"
   },
   "outputs": [],
   "source": [
    "X_text = df['text']\n",
    "y_type2 = df['A']\n",
    "y_type3 = df['B']\n",
    "y_type4 = df['C']"
   ]
  },
  {
   "cell_type": "code",
   "execution_count": 17,
   "metadata": {
    "id": "YzkLrMO2VzFi"
   },
   "outputs": [],
   "source": [
    "vectorizer = TfidfVectorizer(max_features=300)\n",
    "X = vectorizer.fit_transform(X_text)"
   ]
  },
  {
   "cell_type": "code",
   "execution_count": 18,
   "metadata": {
    "id": "r4z3pnB8V2HA"
   },
   "outputs": [],
   "source": [
    "X_train, X_test, y2_train, y2_test, y3_train, y3_test, y4_train, y4_test = train_test_split(\n",
    "    X, y_type2, y_type3, y_type4, test_size=0.2, random_state=42\n",
    ")"
   ]
  },
  {
   "cell_type": "code",
   "execution_count": 23,
   "metadata": {
    "id": "0owJBnXRV4Ja"
   },
   "outputs": [],
   "source": [
    "model1 = LogisticRegression(max_iter=200)\n",
    "model1.fit(X_train, y2_train)\n",
    "y2_pred = model1.predict(X_test)"
   ]
  },
  {
   "cell_type": "code",
   "execution_count": 26,
   "metadata": {
    "id": "o4Yw0hCKV6t8"
   },
   "outputs": [],
   "source": [
    "X_train_2 = pd.DataFrame(X_train.toarray())\n",
    "X_train_2['type2'] = y2_train.values\n",
    "\n",
    "X_test_2 = pd.DataFrame(X_test.toarray())\n",
    "X_test_2['type2'] = y2_pred\n",
    "\n",
    "X_train_2.columns = X_train_2.columns.astype(str)\n",
    "X_test_2.columns = X_test_2.columns.astype(str)"
   ]
  },
  {
   "cell_type": "code",
   "execution_count": 27,
   "metadata": {
    "id": "pWDZYUbcV8uv"
   },
   "outputs": [],
   "source": [
    "model2 = LogisticRegression(max_iter=200)\n",
    "model2.fit(X_train_2, y3_train)\n",
    "y3_pred = model2.predict(X_test_2)"
   ]
  },
  {
   "cell_type": "code",
   "execution_count": 28,
   "metadata": {
    "id": "mZ5XoXm_cVm1"
   },
   "outputs": [],
   "source": [
    "X_train_3 = X_train_2.copy()\n",
    "X_train_3['type3'] = y3_train.values\n",
    "\n",
    "X_test_3 = X_test_2.copy()\n",
    "X_test_3['type3'] = y3_pred\n",
    "\n",
    "X_train_3.columns = X_train_3.columns.astype(str)\n",
    "X_test_3.columns = X_test_3.columns.astype(str)"
   ]
  },
  {
   "cell_type": "code",
   "execution_count": 29,
   "metadata": {
    "colab": {
     "base_uri": "https://localhost:8080/"
    },
    "id": "meg9eCfreamo",
    "outputId": "7ea956fd-8460-4898-a665-6d64972b069e"
   },
   "outputs": [
    {
     "name": "stderr",
     "output_type": "stream",
     "text": [
      "/usr/local/lib/python3.11/dist-packages/sklearn/neural_network/_multilayer_perceptron.py:691: ConvergenceWarning: Stochastic Optimizer: Maximum iterations (100) reached and the optimization hasn't converged yet.\n",
      "  warnings.warn(\n"
     ]
    }
   ],
   "source": [
    "model3 = MLPClassifier(hidden_layer_sizes=(64,), max_iter=100)\n",
    "model3.fit(X_train_3, y4_train)\n",
    "y4_pred = model3.predict(X_test_3)"
   ]
  },
  {
   "cell_type": "code",
   "execution_count": 30,
   "metadata": {
    "colab": {
     "base_uri": "https://localhost:8080/"
    },
    "id": "YSvN6ReueavI",
    "outputId": "c466ad5a-327f-4d6d-bae6-c2270a1e3aed"
   },
   "outputs": [
    {
     "name": "stdout",
     "output_type": "stream",
     "text": [
      "\n",
      "📌 Classification Report - Type 2:\n",
      "\n",
      "              precision    recall  f1-score   support\n",
      "\n",
      "           0       0.74      0.82      0.78      5394\n",
      "           1       0.76      0.66      0.71      4606\n",
      "\n",
      "    accuracy                           0.75     10000\n",
      "   macro avg       0.75      0.74      0.74     10000\n",
      "weighted avg       0.75      0.75      0.75     10000\n",
      "\n"
     ]
    }
   ],
   "source": [
    "print(\"\\n📌 Classification Report - Type 2:\\n\")\n",
    "print(classification_report(y2_test, y2_pred))"
   ]
  },
  {
   "cell_type": "code",
   "execution_count": 31,
   "metadata": {
    "colab": {
     "base_uri": "https://localhost:8080/"
    },
    "id": "iw70N6Yvecrv",
    "outputId": "7f06b719-96c9-4ffe-8a49-04897388c357"
   },
   "outputs": [
    {
     "name": "stdout",
     "output_type": "stream",
     "text": [
      "\n",
      "📌 Classification Report - Type 3:\n",
      "\n",
      "              precision    recall  f1-score   support\n",
      "\n",
      "           0       0.64      0.28      0.39       724\n",
      "           1       0.95      0.99      0.97      9276\n",
      "\n",
      "    accuracy                           0.94     10000\n",
      "   macro avg       0.79      0.63      0.68     10000\n",
      "weighted avg       0.92      0.94      0.92     10000\n",
      "\n"
     ]
    }
   ],
   "source": [
    "print(\"\\n📌 Classification Report - Type 3:\\n\")\n",
    "print(classification_report(y3_test, y3_pred))"
   ]
  },
  {
   "cell_type": "code",
   "execution_count": 32,
   "metadata": {
    "colab": {
     "base_uri": "https://localhost:8080/"
    },
    "id": "ZzJCu-Aqed8G",
    "outputId": "d24cd5d7-276f-4597-94a9-6046be3878a3"
   },
   "outputs": [
    {
     "name": "stdout",
     "output_type": "stream",
     "text": [
      "\n",
      "📌 Classification Report - Type 4:\n",
      "\n",
      "              precision    recall  f1-score   support\n",
      "\n",
      "           0       0.78      0.78      0.78      4716\n",
      "           1       0.81      0.80      0.81      5284\n",
      "\n",
      "    accuracy                           0.79     10000\n",
      "   macro avg       0.79      0.79      0.79     10000\n",
      "weighted avg       0.79      0.79      0.79     10000\n",
      "\n"
     ]
    }
   ],
   "source": [
    "print(\"\\n📌 Classification Report - Type 4:\\n\")\n",
    "print(classification_report(y4_test, y4_pred))"
   ]
  },
  {
   "cell_type": "markdown",
   "metadata": {
    "id": "zbEJyFLkfE3r"
   },
   "source": [
    "##Hierarchical Structure"
   ]
  },
  {
   "cell_type": "code",
   "execution_count": 33,
   "metadata": {
    "id": "tY0TfqXofFT8"
   },
   "outputs": [],
   "source": [
    "import pandas as pd\n",
    "from sklearn.feature_extraction.text import TfidfVectorizer\n",
    "from sklearn.ensemble import RandomForestClassifier, GradientBoostingClassifier\n",
    "from sklearn.neural_network import MLPClassifier\n",
    "from sklearn.model_selection import train_test_split\n",
    "from sklearn.preprocessing import MultiLabelBinarizer\n",
    "from sklearn.metrics import classification_report\n",
    "from collections import Counter"
   ]
  },
  {
   "cell_type": "code",
   "execution_count": 35,
   "metadata": {
    "id": "YlR07rm7fp_H"
   },
   "outputs": [],
   "source": [
    "df = pd.read_csv(\"/content/PubMed Multi Label Text Classification Dataset Processed.csv\")"
   ]
  },
  {
   "cell_type": "code",
   "execution_count": 36,
   "metadata": {
    "id": "GCX91O8bftGr"
   },
   "outputs": [],
   "source": [
    "df['combined_text'] = df['Title'].fillna('') + \" \" + df['abstractText'].fillna('')\n",
    "df['meshMajor'] = df['meshMajor'].fillna('').apply(lambda x: x.split(','))"
   ]
  },
  {
   "cell_type": "code",
   "execution_count": 37,
   "metadata": {
    "id": "DUSrlESkf0zy"
   },
   "outputs": [],
   "source": [
    "all_labels = [label for sublist in df['meshMajor'].tolist() for label in sublist]\n",
    "top_labels = [label for label, _ in Counter(all_labels).most_common(20)]\n",
    "df['meshMajor'] = df['meshMajor'].apply(lambda labels: [l for l in labels if l in top_labels])\n",
    "df = df[df['meshMajor'].map(len) > 0]"
   ]
  },
  {
   "cell_type": "code",
   "execution_count": 38,
   "metadata": {
    "id": "KR9kNv-Tf5Hu"
   },
   "outputs": [],
   "source": [
    "mlb = MultiLabelBinarizer()\n",
    "y = mlb.fit_transform(df['meshMajor'])"
   ]
  },
  {
   "cell_type": "code",
   "execution_count": 39,
   "metadata": {
    "id": "G2bE3at-f8Eh"
   },
   "outputs": [],
   "source": [
    "vectorizer = TfidfVectorizer(max_features=1000)\n",
    "X = vectorizer.fit_transform(df['combined_text']).toarray()"
   ]
  },
  {
   "cell_type": "code",
   "execution_count": 40,
   "metadata": {
    "id": "kOSF1lD6gCpD"
   },
   "outputs": [],
   "source": [
    "X_train, X_test, y_train_all, y_test_all = train_test_split(X, y, test_size=0.2, random_state=42)"
   ]
  },
  {
   "cell_type": "code",
   "execution_count": 41,
   "metadata": {
    "id": "ygiVsEo0gGDc"
   },
   "outputs": [],
   "source": [
    "y_train_lvl1 = y_train_all[:, 0]\n",
    "y_test_lvl1 = y_test_all[:, 0]"
   ]
  },
  {
   "cell_type": "code",
   "execution_count": 42,
   "metadata": {
    "id": "CrEU_eb_gLfO"
   },
   "outputs": [],
   "source": [
    "model1 = RandomForestClassifier(n_estimators=100)\n",
    "model1.fit(X_train, y_train_lvl1)\n",
    "y1_pred = model1.predict(X_test)"
   ]
  },
  {
   "cell_type": "code",
   "execution_count": 45,
   "metadata": {
    "colab": {
     "base_uri": "https://localhost:8080/"
    },
    "id": "_DlL3ayugPVN",
    "outputId": "5e7d73fb-3cac-47e6-ed55-81fed004603f"
   },
   "outputs": [
    {
     "name": "stdout",
     "output_type": "stream",
     "text": [
      "⚠️ Not enough data for Level 2\n"
     ]
    }
   ],
   "source": [
    "X_train_lvl2 = X_train[y_train_lvl1 == 1]\n",
    "y_train_lvl2 = y_train_all[y_train_lvl1 == 1, 1]\n",
    "X_test_lvl2 = X_test[y1_pred == 1]\n",
    "\n",
    "if len(X_train_lvl2) > 0 and len(X_test_lvl2) > 0:\n",
    "    model2 = GradientBoostingClassifier()\n",
    "    model2.fit(X_train_lvl2, y_train_lvl2)\n",
    "    y2_pred = model2.predict(X_test_lvl2)\n",
    "\n",
    "    # LEVEL 3 - further subset where Level 2 also predicted positive\n",
    "    X_train_lvl3 = X_train_lvl2[y_train_lvl2 == 1]\n",
    "    y_train_lvl3 = y_train_all[(y_train_lvl1 == 1) & (y_train_lvl2 == 1), 2]\n",
    "    X_test_lvl3 = X_test_lvl2[y2_pred == 1]\n",
    "\n",
    "    if len(X_train_lvl3) > 0 and len(X_test_lvl3) > 0:\n",
    "        model3 = MLPClassifier(hidden_layer_sizes=(64,), max_iter=100)\n",
    "        model3.fit(X_train_lvl3, y_train_lvl3)\n",
    "        y3_pred = model3.predict(X_test_lvl3)\n",
    "\n",
    "        print(\"✅ Level 3 Evaluation Report:\")\n",
    "        print(classification_report(\n",
    "            y_test_all[(y1_pred == 1) & (y2_pred == 1), 2],\n",
    "            y3_pred\n",
    "        ))\n",
    "    else:\n",
    "        print(\"⚠️ Not enough data for Level 3\")\n",
    "else:\n",
    "    print(\"⚠️ Not enough data for Level 2\")"
   ]
  },
  {
   "cell_type": "code",
   "execution_count": 48,
   "metadata": {
    "colab": {
     "base_uri": "https://localhost:8080/"
    },
    "id": "wmmFu64LiSH4",
    "outputId": "228f556f-d715-46e9-9073-3335f87d6222"
   },
   "outputs": [
    {
     "name": "stdout",
     "output_type": "stream",
     "text": [
      "\n",
      "✅ Level 1 Report (Top Label:  'Adult')\n",
      "              precision    recall  f1-score   support\n",
      "\n",
      "           0       0.88      1.00      0.94      7846\n",
      "           1       0.00      0.00      0.00      1027\n",
      "\n",
      "    accuracy                           0.88      8873\n",
      "   macro avg       0.44      0.50      0.47      8873\n",
      "weighted avg       0.78      0.88      0.83      8873\n",
      "\n",
      "Accuracy (Level 1): 0.884255606897329\n"
     ]
    },
    {
     "name": "stderr",
     "output_type": "stream",
     "text": [
      "/usr/local/lib/python3.11/dist-packages/sklearn/metrics/_classification.py:1565: UndefinedMetricWarning: Precision is ill-defined and being set to 0.0 in labels with no predicted samples. Use `zero_division` parameter to control this behavior.\n",
      "  _warn_prf(average, modifier, f\"{metric.capitalize()} is\", len(result))\n",
      "/usr/local/lib/python3.11/dist-packages/sklearn/metrics/_classification.py:1565: UndefinedMetricWarning: Precision is ill-defined and being set to 0.0 in labels with no predicted samples. Use `zero_division` parameter to control this behavior.\n",
      "  _warn_prf(average, modifier, f\"{metric.capitalize()} is\", len(result))\n",
      "/usr/local/lib/python3.11/dist-packages/sklearn/metrics/_classification.py:1565: UndefinedMetricWarning: Precision is ill-defined and being set to 0.0 in labels with no predicted samples. Use `zero_division` parameter to control this behavior.\n",
      "  _warn_prf(average, modifier, f\"{metric.capitalize()} is\", len(result))\n"
     ]
    }
   ],
   "source": [
    "from sklearn.metrics import accuracy_score\n",
    "\n",
    "# ----------- LEVEL 1 REPORT -----------\n",
    "print(\"\\n✅ Level 1 Report (Top Label: {})\".format(mlb.classes_[0]))\n",
    "print(classification_report(y_test_lvl1, y1_pred))\n",
    "print(\"Accuracy (Level 1):\", accuracy_score(y_test_lvl1, y1_pred))\n"
   ]
  }
 ],
 "metadata": {
  "colab": {
   "provenance": []
  },
  "kernelspec": {
   "display_name": "Python 3 (ipykernel)",
   "language": "python",
   "name": "python3"
  },
  "language_info": {
   "codemirror_mode": {
    "name": "ipython",
    "version": 3
   },
   "file_extension": ".py",
   "mimetype": "text/x-python",
   "name": "python",
   "nbconvert_exporter": "python",
   "pygments_lexer": "ipython3",
   "version": "3.11.3"
  }
 },
 "nbformat": 4,
 "nbformat_minor": 1
}
